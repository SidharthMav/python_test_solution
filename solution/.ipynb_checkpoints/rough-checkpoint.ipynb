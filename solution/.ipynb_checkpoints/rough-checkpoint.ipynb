{
 "cells": [
  {
   "cell_type": "code",
   "execution_count": 1,
   "id": "32d10892-d9cb-4fae-a86f-2d9974f9941d",
   "metadata": {},
   "outputs": [],
   "source": [
    "import pandas as pd\n",
    "\n",
    "import pathlib\n",
    "\n",
    "import glob\n",
    "\n",
    "import os"
   ]
  },
  {
   "cell_type": "code",
   "execution_count": 2,
   "id": "abb49f9b-04e7-4ce5-a6c8-b4744b984f1e",
   "metadata": {},
   "outputs": [],
   "source": [
    "import json"
   ]
  },
  {
   "cell_type": "code",
   "execution_count": 3,
   "id": "4ba8d30c-3095-4bfd-8178-bb8c03d961c3",
   "metadata": {},
   "outputs": [],
   "source": [
    "path = r'C:\\Users\\msidharth\\Desktop\\Sidharth\\Revolve\\python-assignment-level2-6ed53b4e828af18bc24b1770a3a3e3e70706e785\\input_data\\starter'"
   ]
  },
  {
   "cell_type": "code",
   "execution_count": 4,
   "id": "b18e1a6c-5afc-4181-9f17-2721a1547fab",
   "metadata": {},
   "outputs": [
    {
     "data": {
      "text/html": [
       "<div>\n",
       "<style scoped>\n",
       "    .dataframe tbody tr th:only-of-type {\n",
       "        vertical-align: middle;\n",
       "    }\n",
       "\n",
       "    .dataframe tbody tr th {\n",
       "        vertical-align: top;\n",
       "    }\n",
       "\n",
       "    .dataframe thead th {\n",
       "        text-align: right;\n",
       "    }\n",
       "</style>\n",
       "<table border=\"1\" class=\"dataframe\">\n",
       "  <thead>\n",
       "    <tr style=\"text-align: right;\">\n",
       "      <th></th>\n",
       "      <th>customer_id</th>\n",
       "      <th>loyalty_score</th>\n",
       "    </tr>\n",
       "  </thead>\n",
       "  <tbody>\n",
       "    <tr>\n",
       "      <th>0</th>\n",
       "      <td>C1</td>\n",
       "      <td>7</td>\n",
       "    </tr>\n",
       "  </tbody>\n",
       "</table>\n",
       "</div>"
      ],
      "text/plain": [
       "  customer_id  loyalty_score\n",
       "0          C1              7"
      ]
     },
     "execution_count": 4,
     "metadata": {},
     "output_type": "execute_result"
    }
   ],
   "source": [
    "cm = pd.read_csv(path+'\\\\'+'customers.csv')\n",
    "cm.head(1)"
   ]
  },
  {
   "cell_type": "code",
   "execution_count": 5,
   "id": "10309387-69b2-4ba3-aa48-8395938a3451",
   "metadata": {},
   "outputs": [
    {
     "data": {
      "text/html": [
       "<div>\n",
       "<style scoped>\n",
       "    .dataframe tbody tr th:only-of-type {\n",
       "        vertical-align: middle;\n",
       "    }\n",
       "\n",
       "    .dataframe tbody tr th {\n",
       "        vertical-align: top;\n",
       "    }\n",
       "\n",
       "    .dataframe thead th {\n",
       "        text-align: right;\n",
       "    }\n",
       "</style>\n",
       "<table border=\"1\" class=\"dataframe\">\n",
       "  <thead>\n",
       "    <tr style=\"text-align: right;\">\n",
       "      <th></th>\n",
       "      <th>product_id</th>\n",
       "      <th>product_description</th>\n",
       "      <th>product_category</th>\n",
       "    </tr>\n",
       "  </thead>\n",
       "  <tbody>\n",
       "    <tr>\n",
       "      <th>0</th>\n",
       "      <td>P01</td>\n",
       "      <td>detergent</td>\n",
       "      <td>house</td>\n",
       "    </tr>\n",
       "  </tbody>\n",
       "</table>\n",
       "</div>"
      ],
      "text/plain": [
       "  product_id product_description product_category\n",
       "0        P01           detergent            house"
      ]
     },
     "execution_count": 5,
     "metadata": {},
     "output_type": "execute_result"
    }
   ],
   "source": [
    "pm = pd.read_csv(path+'\\\\'+'products.csv')\n",
    "pm.head(1)"
   ]
  },
  {
   "cell_type": "code",
   "execution_count": 6,
   "id": "0cb8dc26-e737-4e1e-b975-1edb201cbfb5",
   "metadata": {},
   "outputs": [],
   "source": [
    "fct = pd.DataFrame()"
   ]
  },
  {
   "cell_type": "code",
   "execution_count": 7,
   "id": "84c6d52b-c38b-4995-b247-7e7817a6c03c",
   "metadata": {},
   "outputs": [],
   "source": [
    "for f in glob.glob(path+'\\\\*\\\\*\\\\*.json', recursive=True):\n",
    "    fct_loop = pd.read_json(f, lines=True)\n",
    "    fct = fct.append(fct_loop, ignore_index=True)"
   ]
  },
  {
   "cell_type": "code",
   "execution_count": 12,
   "id": "1e680722-ef80-48a9-8fbd-bf6c4912c980",
   "metadata": {},
   "outputs": [],
   "source": [
    "# fct"
   ]
  },
  {
   "cell_type": "code",
   "execution_count": 13,
   "id": "8769f948-6f5a-43f9-b5c5-a60922c0cb6f",
   "metadata": {},
   "outputs": [],
   "source": [
    "records_list = []\n",
    "index = 0\n",
    "basket_df = pd.DataFrame()\n",
    "for record in fct['basket'].tolist():\n",
    "    basket_loop = pd.DataFrame(record)\n",
    "    basket_loop['index'] = index\n",
    "    index = index + 1\n",
    "    basket_df = basket_df.append(basket_loop)"
   ]
  },
  {
   "cell_type": "code",
   "execution_count": 14,
   "id": "fbc22b9c-f527-4f82-9f05-9adc894e2ecb",
   "metadata": {},
   "outputs": [
    {
     "data": {
      "text/html": [
       "<div>\n",
       "<style scoped>\n",
       "    .dataframe tbody tr th:only-of-type {\n",
       "        vertical-align: middle;\n",
       "    }\n",
       "\n",
       "    .dataframe tbody tr th {\n",
       "        vertical-align: top;\n",
       "    }\n",
       "\n",
       "    .dataframe thead th {\n",
       "        text-align: right;\n",
       "    }\n",
       "</style>\n",
       "<table border=\"1\" class=\"dataframe\">\n",
       "  <thead>\n",
       "    <tr style=\"text-align: right;\">\n",
       "      <th></th>\n",
       "      <th>product_id</th>\n",
       "      <th>price</th>\n",
       "      <th>index</th>\n",
       "    </tr>\n",
       "  </thead>\n",
       "  <tbody>\n",
       "    <tr>\n",
       "      <th>0</th>\n",
       "      <td>P40</td>\n",
       "      <td>48</td>\n",
       "      <td>0</td>\n",
       "    </tr>\n",
       "  </tbody>\n",
       "</table>\n",
       "</div>"
      ],
      "text/plain": [
       "  product_id  price  index\n",
       "0        P40     48      0"
      ]
     },
     "execution_count": 14,
     "metadata": {},
     "output_type": "execute_result"
    }
   ],
   "source": [
    "basket_df.head(1)"
   ]
  },
  {
   "cell_type": "code",
   "execution_count": 15,
   "id": "ef445d33-65b4-4e7a-80cc-1cf4a5b3fae2",
   "metadata": {},
   "outputs": [
    {
     "data": {
      "text/plain": [
       "4158094"
      ]
     },
     "execution_count": 15,
     "metadata": {},
     "output_type": "execute_result"
    }
   ],
   "source": [
    "basket_df['price'].sum()"
   ]
  },
  {
   "cell_type": "code",
   "execution_count": 16,
   "id": "834f1949-c012-474b-96ad-ed3137235392",
   "metadata": {},
   "outputs": [
    {
     "data": {
      "text/html": [
       "<div>\n",
       "<style scoped>\n",
       "    .dataframe tbody tr th:only-of-type {\n",
       "        vertical-align: middle;\n",
       "    }\n",
       "\n",
       "    .dataframe tbody tr th {\n",
       "        vertical-align: top;\n",
       "    }\n",
       "\n",
       "    .dataframe thead th {\n",
       "        text-align: right;\n",
       "    }\n",
       "</style>\n",
       "<table border=\"1\" class=\"dataframe\">\n",
       "  <thead>\n",
       "    <tr style=\"text-align: right;\">\n",
       "      <th></th>\n",
       "      <th>index</th>\n",
       "      <th>customer_id</th>\n",
       "      <th>basket</th>\n",
       "      <th>date_of_purchase</th>\n",
       "    </tr>\n",
       "  </thead>\n",
       "  <tbody>\n",
       "    <tr>\n",
       "      <th>0</th>\n",
       "      <td>0</td>\n",
       "      <td>C17</td>\n",
       "      <td>[{'product_id': 'P40', 'price': 48}]</td>\n",
       "      <td>2018-12-01 23:34:00</td>\n",
       "    </tr>\n",
       "  </tbody>\n",
       "</table>\n",
       "</div>"
      ],
      "text/plain": [
       "   index customer_id                                basket  \\\n",
       "0      0         C17  [{'product_id': 'P40', 'price': 48}]   \n",
       "\n",
       "      date_of_purchase  \n",
       "0  2018-12-01 23:34:00  "
      ]
     },
     "execution_count": 16,
     "metadata": {},
     "output_type": "execute_result"
    }
   ],
   "source": [
    "fct.reset_index().head(1)"
   ]
  },
  {
   "cell_type": "code",
   "execution_count": 17,
   "id": "d3bef4be-ca9c-423b-a932-3be5d6d040d9",
   "metadata": {},
   "outputs": [
    {
     "data": {
      "text/html": [
       "<div>\n",
       "<style scoped>\n",
       "    .dataframe tbody tr th:only-of-type {\n",
       "        vertical-align: middle;\n",
       "    }\n",
       "\n",
       "    .dataframe tbody tr th {\n",
       "        vertical-align: top;\n",
       "    }\n",
       "\n",
       "    .dataframe thead th {\n",
       "        text-align: right;\n",
       "    }\n",
       "</style>\n",
       "<table border=\"1\" class=\"dataframe\">\n",
       "  <thead>\n",
       "    <tr style=\"text-align: right;\">\n",
       "      <th></th>\n",
       "      <th>product_id</th>\n",
       "      <th>price</th>\n",
       "      <th>index</th>\n",
       "      <th>customer_id</th>\n",
       "      <th>basket</th>\n",
       "      <th>date_of_purchase</th>\n",
       "    </tr>\n",
       "  </thead>\n",
       "  <tbody>\n",
       "    <tr>\n",
       "      <th>0</th>\n",
       "      <td>P40</td>\n",
       "      <td>48</td>\n",
       "      <td>0</td>\n",
       "      <td>C17</td>\n",
       "      <td>[{'product_id': 'P40', 'price': 48}]</td>\n",
       "      <td>2018-12-01 23:34:00</td>\n",
       "    </tr>\n",
       "  </tbody>\n",
       "</table>\n",
       "</div>"
      ],
      "text/plain": [
       "  product_id  price  index customer_id                                basket  \\\n",
       "0        P40     48      0         C17  [{'product_id': 'P40', 'price': 48}]   \n",
       "\n",
       "      date_of_purchase  \n",
       "0  2018-12-01 23:34:00  "
      ]
     },
     "execution_count": 17,
     "metadata": {},
     "output_type": "execute_result"
    }
   ],
   "source": [
    "fct_basket = basket_df.merge(fct.reset_index())\n",
    "fct_basket.head(1)"
   ]
  },
  {
   "cell_type": "code",
   "execution_count": 18,
   "id": "d3b94bbd-f867-4831-836c-8fada132db04",
   "metadata": {},
   "outputs": [
    {
     "data": {
      "text/html": [
       "<div>\n",
       "<style scoped>\n",
       "    .dataframe tbody tr th:only-of-type {\n",
       "        vertical-align: middle;\n",
       "    }\n",
       "\n",
       "    .dataframe tbody tr th {\n",
       "        vertical-align: top;\n",
       "    }\n",
       "\n",
       "    .dataframe thead th {\n",
       "        text-align: right;\n",
       "    }\n",
       "</style>\n",
       "<table border=\"1\" class=\"dataframe\">\n",
       "  <thead>\n",
       "    <tr style=\"text-align: right;\">\n",
       "      <th></th>\n",
       "      <th>product_id</th>\n",
       "      <th>product_description</th>\n",
       "      <th>product_category</th>\n",
       "    </tr>\n",
       "  </thead>\n",
       "  <tbody>\n",
       "    <tr>\n",
       "      <th>0</th>\n",
       "      <td>P01</td>\n",
       "      <td>detergent</td>\n",
       "      <td>house</td>\n",
       "    </tr>\n",
       "  </tbody>\n",
       "</table>\n",
       "</div>"
      ],
      "text/plain": [
       "  product_id product_description product_category\n",
       "0        P01           detergent            house"
      ]
     },
     "execution_count": 18,
     "metadata": {},
     "output_type": "execute_result"
    }
   ],
   "source": [
    "pm.head(1)"
   ]
  },
  {
   "cell_type": "code",
   "execution_count": 19,
   "id": "e84a3895-c1cb-461f-bb81-34fd26dbd005",
   "metadata": {},
   "outputs": [
    {
     "data": {
      "text/html": [
       "<div>\n",
       "<style scoped>\n",
       "    .dataframe tbody tr th:only-of-type {\n",
       "        vertical-align: middle;\n",
       "    }\n",
       "\n",
       "    .dataframe tbody tr th {\n",
       "        vertical-align: top;\n",
       "    }\n",
       "\n",
       "    .dataframe thead th {\n",
       "        text-align: right;\n",
       "    }\n",
       "</style>\n",
       "<table border=\"1\" class=\"dataframe\">\n",
       "  <thead>\n",
       "    <tr style=\"text-align: right;\">\n",
       "      <th></th>\n",
       "      <th>customer_id</th>\n",
       "      <th>loyalty_score</th>\n",
       "    </tr>\n",
       "  </thead>\n",
       "  <tbody>\n",
       "    <tr>\n",
       "      <th>0</th>\n",
       "      <td>C1</td>\n",
       "      <td>7</td>\n",
       "    </tr>\n",
       "  </tbody>\n",
       "</table>\n",
       "</div>"
      ],
      "text/plain": [
       "  customer_id  loyalty_score\n",
       "0          C1              7"
      ]
     },
     "execution_count": 19,
     "metadata": {},
     "output_type": "execute_result"
    }
   ],
   "source": [
    "cm.head(1)"
   ]
  },
  {
   "cell_type": "code",
   "execution_count": 20,
   "id": "b2991bbe-dc48-4e53-9fe0-b9c82f38cffd",
   "metadata": {},
   "outputs": [
    {
     "name": "stdout",
     "output_type": "stream",
     "text": [
      "4158094\n",
      "4158094\n"
     ]
    }
   ],
   "source": [
    "print(fct_basket['price'].sum())\n",
    "fct_basket_pcm = fct_basket.merge(pm).merge(cm)\n",
    "print(fct_basket_pcm['price'].sum())"
   ]
  },
  {
   "cell_type": "code",
   "execution_count": 21,
   "id": "d95c4229-e949-49f5-957d-d9ee87505b9d",
   "metadata": {},
   "outputs": [
    {
     "data": {
      "text/plain": [
       "Index(['product_id', 'price', 'index', 'customer_id', 'basket',\n",
       "       'date_of_purchase', 'product_description', 'product_category',\n",
       "       'loyalty_score'],\n",
       "      dtype='object')"
      ]
     },
     "execution_count": 21,
     "metadata": {},
     "output_type": "execute_result"
    }
   ],
   "source": [
    "fct_basket_pcm.columns"
   ]
  },
  {
   "cell_type": "code",
   "execution_count": 22,
   "id": "c4e4230c-2042-4d7e-9532-312956c0292f",
   "metadata": {},
   "outputs": [
    {
     "data": {
      "text/html": [
       "<div>\n",
       "<style scoped>\n",
       "    .dataframe tbody tr th:only-of-type {\n",
       "        vertical-align: middle;\n",
       "    }\n",
       "\n",
       "    .dataframe tbody tr th {\n",
       "        vertical-align: top;\n",
       "    }\n",
       "\n",
       "    .dataframe thead th {\n",
       "        text-align: right;\n",
       "    }\n",
       "</style>\n",
       "<table border=\"1\" class=\"dataframe\">\n",
       "  <thead>\n",
       "    <tr style=\"text-align: right;\">\n",
       "      <th></th>\n",
       "      <th>product_id</th>\n",
       "      <th>price</th>\n",
       "      <th>index</th>\n",
       "      <th>customer_id</th>\n",
       "      <th>basket</th>\n",
       "      <th>date_of_purchase</th>\n",
       "      <th>product_description</th>\n",
       "      <th>product_category</th>\n",
       "      <th>loyalty_score</th>\n",
       "    </tr>\n",
       "  </thead>\n",
       "  <tbody>\n",
       "    <tr>\n",
       "      <th>0</th>\n",
       "      <td>P40</td>\n",
       "      <td>48</td>\n",
       "      <td>0</td>\n",
       "      <td>C17</td>\n",
       "      <td>[{'product_id': 'P40', 'price': 48}]</td>\n",
       "      <td>2018-12-01 23:34:00</td>\n",
       "      <td>irn bru</td>\n",
       "      <td>sweets</td>\n",
       "      <td>2</td>\n",
       "    </tr>\n",
       "  </tbody>\n",
       "</table>\n",
       "</div>"
      ],
      "text/plain": [
       "  product_id  price  index customer_id                                basket  \\\n",
       "0        P40     48      0         C17  [{'product_id': 'P40', 'price': 48}]   \n",
       "\n",
       "      date_of_purchase product_description product_category  loyalty_score  \n",
       "0  2018-12-01 23:34:00             irn bru           sweets              2  "
      ]
     },
     "execution_count": 22,
     "metadata": {},
     "output_type": "execute_result"
    }
   ],
   "source": [
    "fct_basket_pcm.head(1)"
   ]
  },
  {
   "cell_type": "code",
   "execution_count": 25,
   "id": "f44c260c-86b7-4bdd-b960-d54cae65681b",
   "metadata": {},
   "outputs": [],
   "source": [
    "fct_basket_pcm['date_of_purchase'] = pd.to_datetime(fct_basket_pcm['date_of_purchase'])"
   ]
  },
  {
   "cell_type": "code",
   "execution_count": 31,
   "id": "04fcd6b2-3a0d-42ad-8e0e-bdad7f9eaa56",
   "metadata": {},
   "outputs": [],
   "source": [
    "fct_basket_pcm['week'] = fct_basket_pcm['date_of_purchase'].dt.isocalendar()['week']\n",
    "fct_basket_pcm['year'] = fct_basket_pcm['date_of_purchase'].dt.isocalendar()['year']"
   ]
  },
  {
   "cell_type": "code",
   "execution_count": 34,
   "id": "18d7c63b-d81c-4c53-83ed-9f98cfcffc7c",
   "metadata": {},
   "outputs": [],
   "source": [
    "fct_basket_pcm['year_week'] = fct_basket_pcm['year'].astype(str)+'_'+fct_basket_pcm['week'].astype(str)"
   ]
  },
  {
   "cell_type": "code",
   "execution_count": 37,
   "id": "26c50563-78da-495e-a9b6-d36c96e7dda2",
   "metadata": {},
   "outputs": [
    {
     "data": {
      "text/html": [
       "<div>\n",
       "<style scoped>\n",
       "    .dataframe tbody tr th:only-of-type {\n",
       "        vertical-align: middle;\n",
       "    }\n",
       "\n",
       "    .dataframe tbody tr th {\n",
       "        vertical-align: top;\n",
       "    }\n",
       "\n",
       "    .dataframe thead th {\n",
       "        text-align: right;\n",
       "    }\n",
       "</style>\n",
       "<table border=\"1\" class=\"dataframe\">\n",
       "  <thead>\n",
       "    <tr style=\"text-align: right;\">\n",
       "      <th></th>\n",
       "      <th>product_id</th>\n",
       "      <th>price</th>\n",
       "      <th>index</th>\n",
       "      <th>customer_id</th>\n",
       "      <th>basket</th>\n",
       "      <th>date_of_purchase</th>\n",
       "      <th>product_description</th>\n",
       "      <th>product_category</th>\n",
       "      <th>loyalty_score</th>\n",
       "      <th>week</th>\n",
       "      <th>year</th>\n",
       "      <th>year_week</th>\n",
       "    </tr>\n",
       "  </thead>\n",
       "  <tbody>\n",
       "    <tr>\n",
       "      <th>0</th>\n",
       "      <td>P40</td>\n",
       "      <td>48</td>\n",
       "      <td>0</td>\n",
       "      <td>C17</td>\n",
       "      <td>[{'product_id': 'P40', 'price': 48}]</td>\n",
       "      <td>2018-12-01 23:34:00</td>\n",
       "      <td>irn bru</td>\n",
       "      <td>sweets</td>\n",
       "      <td>2</td>\n",
       "      <td>48</td>\n",
       "      <td>2018</td>\n",
       "      <td>2018_48</td>\n",
       "    </tr>\n",
       "  </tbody>\n",
       "</table>\n",
       "</div>"
      ],
      "text/plain": [
       "  product_id  price  index customer_id                                basket  \\\n",
       "0        P40     48      0         C17  [{'product_id': 'P40', 'price': 48}]   \n",
       "\n",
       "     date_of_purchase product_description product_category  loyalty_score  \\\n",
       "0 2018-12-01 23:34:00             irn bru           sweets              2   \n",
       "\n",
       "   week  year year_week  \n",
       "0    48  2018   2018_48  "
      ]
     },
     "execution_count": 37,
     "metadata": {},
     "output_type": "execute_result"
    }
   ],
   "source": [
    "fct_basket_pcm.head(1)"
   ]
  },
  {
   "cell_type": "code",
   "execution_count": 48,
   "id": "5d367c0c-4f04-4781-be6a-8a7c9a998417",
   "metadata": {},
   "outputs": [],
   "source": [
    "fct_basket_pcm_week = fct_basket_pcm.groupby(['year_week','customer_id','loyalty_score','product_id','product_category']).agg(purchase_count=('date_of_purchase','nunique')).reset_index()"
   ]
  },
  {
   "cell_type": "code",
   "execution_count": 50,
   "id": "6721704e-7362-4086-8af2-7fbb71893af6",
   "metadata": {},
   "outputs": [],
   "source": [
    "# df.to_parquet('./mydf', partition_cols=['year', 'month', 'day'])"
   ]
  },
  {
   "cell_type": "code",
   "execution_count": 51,
   "id": "533c6ba4-6af9-42ab-bbed-75abc1ee85f6",
   "metadata": {},
   "outputs": [
    {
     "data": {
      "text/html": [
       "<div>\n",
       "<style scoped>\n",
       "    .dataframe tbody tr th:only-of-type {\n",
       "        vertical-align: middle;\n",
       "    }\n",
       "\n",
       "    .dataframe tbody tr th {\n",
       "        vertical-align: top;\n",
       "    }\n",
       "\n",
       "    .dataframe thead th {\n",
       "        text-align: right;\n",
       "    }\n",
       "</style>\n",
       "<table border=\"1\" class=\"dataframe\">\n",
       "  <thead>\n",
       "    <tr style=\"text-align: right;\">\n",
       "      <th></th>\n",
       "      <th>year_week</th>\n",
       "      <th>customer_id</th>\n",
       "      <th>loyalty_score</th>\n",
       "      <th>product_id</th>\n",
       "      <th>product_category</th>\n",
       "      <th>purchase_count</th>\n",
       "    </tr>\n",
       "  </thead>\n",
       "  <tbody>\n",
       "    <tr>\n",
       "      <th>0</th>\n",
       "      <td>2018_48</td>\n",
       "      <td>C102</td>\n",
       "      <td>1</td>\n",
       "      <td>P27</td>\n",
       "      <td>fruit_veg</td>\n",
       "      <td>1</td>\n",
       "    </tr>\n",
       "  </tbody>\n",
       "</table>\n",
       "</div>"
      ],
      "text/plain": [
       "  year_week customer_id  loyalty_score product_id product_category  \\\n",
       "0   2018_48        C102              1        P27        fruit_veg   \n",
       "\n",
       "   purchase_count  \n",
       "0               1  "
      ]
     },
     "execution_count": 51,
     "metadata": {},
     "output_type": "execute_result"
    }
   ],
   "source": [
    "fct_basket_pcm_week.head(1)"
   ]
  },
  {
   "cell_type": "code",
   "execution_count": 59,
   "id": "706aef9e-5cde-498c-bdbc-4bff53000839",
   "metadata": {},
   "outputs": [],
   "source": [
    "required_columns = ['customer_id', 'loyalty_score', 'product_id', 'product_category', 'purchase_count']"
   ]
  },
  {
   "cell_type": "code",
   "execution_count": 78,
   "id": "e8c3c5e8-3fa7-4ec2-a848-39d5bb5f1ded",
   "metadata": {},
   "outputs": [],
   "source": [
    "# fct_basket_pcm_week.groupby(pd.Grouper(key='year_week')).apply(lambda record : record[required_columns].to_json(r\"W={}.json\".format(record['year_week'].unique()),\n",
    "#                                                                                                                 orient='records'))"
   ]
  },
  {
   "cell_type": "code",
   "execution_count": 77,
   "id": "bdf216e8-0e2e-4ed2-ac1c-953e008efe29",
   "metadata": {},
   "outputs": [
    {
     "data": {
      "text/html": [
       "<div>\n",
       "<style scoped>\n",
       "    .dataframe tbody tr th:only-of-type {\n",
       "        vertical-align: middle;\n",
       "    }\n",
       "\n",
       "    .dataframe tbody tr th {\n",
       "        vertical-align: top;\n",
       "    }\n",
       "\n",
       "    .dataframe thead th {\n",
       "        text-align: right;\n",
       "    }\n",
       "</style>\n",
       "<table border=\"1\" class=\"dataframe\">\n",
       "  <thead>\n",
       "    <tr style=\"text-align: right;\">\n",
       "      <th></th>\n",
       "    </tr>\n",
       "  </thead>\n",
       "  <tbody>\n",
       "  </tbody>\n",
       "</table>\n",
       "</div>"
      ],
      "text/plain": [
       "Empty DataFrame\n",
       "Columns: []\n",
       "Index: []"
      ]
     },
     "execution_count": 77,
     "metadata": {},
     "output_type": "execute_result"
    }
   ],
   "source": [
    "fct_basket_pcm_week.groupby(pd.Grouper(key='year_week')).apply(lambda record:record[required_columns].to_json(os.getcwd()+'\\\\'+'output'+'\\\\'+\"W={}.json\".format(record['year_week'].unique()),\n",
    "                                                                                                              orient='records'))"
   ]
  }
 ],
 "metadata": {
  "kernelspec": {
   "display_name": "Python 3 (ipykernel)",
   "language": "python",
   "name": "python3"
  },
  "language_info": {
   "codemirror_mode": {
    "name": "ipython",
    "version": 3
   },
   "file_extension": ".py",
   "mimetype": "text/x-python",
   "name": "python",
   "nbconvert_exporter": "python",
   "pygments_lexer": "ipython3",
   "version": "3.8.13"
  }
 },
 "nbformat": 4,
 "nbformat_minor": 5
}
