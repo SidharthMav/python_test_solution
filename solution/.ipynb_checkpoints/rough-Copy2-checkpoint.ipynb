{
 "cells": [
  {
   "cell_type": "code",
   "execution_count": 10,
   "id": "e50c6dc4-5cc0-45a5-b877-fec649576839",
   "metadata": {},
   "outputs": [],
   "source": [
    "import pandas as pd\n",
    "import pathlib\n",
    "import glob\n",
    "import os\n",
    "import json\n",
    "import argparse"
   ]
  },
  {
   "cell_type": "code",
   "execution_count": 16,
   "id": "ac1b5d33-c3f6-4e82-b69f-953fe95d21e8",
   "metadata": {},
   "outputs": [],
   "source": [
    "def get_params() -> dict:\n",
    "    parser = argparse.ArgumentParser(description='DataTest')\n",
    "    parser.add_argument('--customers_location', required=False, default=\"./input_data/starter/customers.csv\")\n",
    "    parser.add_argument('--products_location', required=False, default=\"./input_data/starter/products.csv\")\n",
    "    parser.add_argument('--transactions_location', required=False, default=\"./input_data/starter/transactions/\")\n",
    "    parser.add_argument('--output_location', required=False, default=\"./output_data/outputs/\")\n",
    "    # return vars(parser.parse_args())\n",
    "    args, unknown = parser.parse_known_args()\n",
    "    return args"
   ]
  },
  {
   "cell_type": "code",
   "execution_count": null,
   "id": "b73b4c5e-a433-46da-aeab-c4add4e2b919",
   "metadata": {},
   "outputs": [],
   "source": []
  },
  {
   "cell_type": "code",
   "execution_count": 27,
   "id": "4bd0d3f8-bd9b-4935-afc5-26d5f6eeb188",
   "metadata": {},
   "outputs": [
    {
     "name": "stdout",
     "output_type": "stream",
     "text": [
      "Namespace(customers_location='./input_data/starter/customers.csv', output_location='./output_data/outputs/', products_location='./input_data/starter/products.csv', transactions_location='./input_data/starter/transactions/')\n",
      "C:\\Users\\msidharth\\Desktop\\Sidharth\\Revolve\\python-assignment-level2-6ed53b4e828af18bc24b1770a3a3e3e70706e785\\solution\\./input_data/starter/customers.csv\n"
     ]
    }
   ],
   "source": [
    "def main():\n",
    "    params = get_params()\n",
    "    # print(params)\n",
    "    print(params)\n",
    "    print(os.getcwd()+'\\\\'+params.customers_location)\n",
    "    # cm = pd.read_csv(params.customers_location)\n",
    "\n",
    "if __name__ == \"__main__\":\n",
    "    main()"
   ]
  },
  {
   "cell_type": "code",
   "execution_count": 26,
   "id": "c65e5e7c-3d8d-4625-af05-81d65382f71c",
   "metadata": {},
   "outputs": [
    {
     "data": {
      "text/plain": [
       "'C:\\\\Users\\\\msidharth\\\\Desktop\\\\Sidharth\\\\Revolve\\\\python-assignment-level2-6ed53b4e828af18bc24b1770a3a3e3e70706e785\\\\solution'"
      ]
     },
     "execution_count": 26,
     "metadata": {},
     "output_type": "execute_result"
    }
   ],
   "source": []
  },
  {
   "cell_type": "code",
   "execution_count": null,
   "id": "0a52925c-d2f0-4d61-8473-856d0a428d96",
   "metadata": {},
   "outputs": [],
   "source": [
    "cm = pd.read_csv(path+'\\\\'+'customers.csv')\n",
    "cm.head(1)"
   ]
  },
  {
   "cell_type": "code",
   "execution_count": null,
   "id": "13e29227-e541-41b9-82b2-3bc34911f5fb",
   "metadata": {},
   "outputs": [],
   "source": [
    "pm = pd.read_csv(path+'\\\\'+'products.csv')\n",
    "pm.head(1)"
   ]
  },
  {
   "cell_type": "code",
   "execution_count": null,
   "id": "98214b51-2bcc-48dc-bbcb-90f79d84a07e",
   "metadata": {},
   "outputs": [],
   "source": [
    "fct = pd.DataFrame()"
   ]
  },
  {
   "cell_type": "code",
   "execution_count": null,
   "id": "38dfcf63-8e24-47e5-9ca0-e1c363d92707",
   "metadata": {},
   "outputs": [],
   "source": [
    "fct"
   ]
  },
  {
   "cell_type": "code",
   "execution_count": null,
   "id": "a4330d85-9641-4dfc-a72c-4e2c535b6e61",
   "metadata": {},
   "outputs": [],
   "source": [
    "for f in glob.glob(path+'\\\\*\\\\*\\\\*.json', recursive=True):\n",
    "    fct_loop = pd.read_json(f, lines=True)\n",
    "    fct = fct.append(fct_loop, ignore_index=True)"
   ]
  },
  {
   "cell_type": "code",
   "execution_count": null,
   "id": "ed5cf642-af27-47a8-b415-9e2b295929d1",
   "metadata": {},
   "outputs": [],
   "source": [
    "# fct.head(10)"
   ]
  },
  {
   "cell_type": "code",
   "execution_count": null,
   "id": "094932ef-ab2f-4b77-b042-0fe576303366",
   "metadata": {},
   "outputs": [],
   "source": [
    "index = 0\n",
    "basket_df = pd.DataFrame()\n",
    "for record in fct['basket'].tolist():\n",
    "    basket_loop = pd.DataFrame(record)\n",
    "    basket_loop['index'] = index\n",
    "    index = index + 1\n",
    "    basket_df = basket_df.append(basket_loop)"
   ]
  },
  {
   "cell_type": "code",
   "execution_count": null,
   "id": "04685fc2-bf02-455e-89a3-8ec0f1468bb0",
   "metadata": {},
   "outputs": [],
   "source": [
    "# basket_df.head(10)"
   ]
  },
  {
   "cell_type": "code",
   "execution_count": null,
   "id": "01c3a67c-ef36-4359-8fc8-1d29cf843637",
   "metadata": {},
   "outputs": [],
   "source": [
    "basket_df['price'].sum()"
   ]
  },
  {
   "cell_type": "code",
   "execution_count": null,
   "id": "4ed72879-bf77-4152-a4b4-428fd9f33115",
   "metadata": {},
   "outputs": [],
   "source": [
    "fct_basket = basket_df.merge(fct.reset_index())\n",
    "fct_basket.head(1)"
   ]
  },
  {
   "cell_type": "code",
   "execution_count": null,
   "id": "02cba76e-cc8e-4d9b-a27d-3f81fb6574a9",
   "metadata": {},
   "outputs": [],
   "source": [
    "fct_basket['price'].sum()"
   ]
  },
  {
   "cell_type": "code",
   "execution_count": null,
   "id": "26e65d1f-63ee-467f-9c0f-cff608e927a8",
   "metadata": {},
   "outputs": [],
   "source": [
    "pm.head(1)"
   ]
  },
  {
   "cell_type": "code",
   "execution_count": null,
   "id": "c9d6c108-93df-47f4-b8ed-70f5e23e16bf",
   "metadata": {},
   "outputs": [],
   "source": [
    "cm.head(1)"
   ]
  },
  {
   "cell_type": "code",
   "execution_count": null,
   "id": "833bd379-baf6-415c-bd38-22d6dd7ddc57",
   "metadata": {},
   "outputs": [],
   "source": [
    "print(fct_basket['price'].sum())\n",
    "fct_basket_pcm = fct_basket.merge(pm).merge(cm)\n",
    "print(fct_basket_pcm['price'].sum())"
   ]
  },
  {
   "cell_type": "code",
   "execution_count": null,
   "id": "3781f480-c4a1-4101-9dac-d9021c75096b",
   "metadata": {},
   "outputs": [],
   "source": [
    "fct_basket_pcm.columns"
   ]
  },
  {
   "cell_type": "code",
   "execution_count": null,
   "id": "59fb4ad5-f34c-4375-b38e-6a0f53c8400e",
   "metadata": {},
   "outputs": [],
   "source": [
    "fct_basket_pcm.head(1)"
   ]
  },
  {
   "cell_type": "code",
   "execution_count": null,
   "id": "b38cda79-425e-4210-ab69-5a5fd88f81e4",
   "metadata": {},
   "outputs": [],
   "source": [
    "fct_basket_pcm['date_of_purchase'] = pd.to_datetime(fct_basket_pcm['date_of_purchase'])"
   ]
  },
  {
   "cell_type": "code",
   "execution_count": null,
   "id": "35e58cc7-8518-481b-a7eb-e4b5dbf794ef",
   "metadata": {},
   "outputs": [],
   "source": [
    "fct_basket_pcm['week'] = fct_basket_pcm['date_of_purchase'].dt.isocalendar()['week']\n",
    "fct_basket_pcm['year'] = fct_basket_pcm['date_of_purchase'].dt.isocalendar()['year']"
   ]
  },
  {
   "cell_type": "code",
   "execution_count": null,
   "id": "876c25d3-db8e-4e9b-892e-5a02c0cd6c4e",
   "metadata": {},
   "outputs": [],
   "source": [
    "fct_basket_pcm['year_week'] = fct_basket_pcm['year'].astype(str)+'_'+fct_basket_pcm['week'].astype(str)"
   ]
  },
  {
   "cell_type": "code",
   "execution_count": null,
   "id": "7b16abdc-f8ee-451e-8a32-53f84ee53409",
   "metadata": {},
   "outputs": [],
   "source": [
    "fct_basket_pcm.head(1)"
   ]
  },
  {
   "cell_type": "code",
   "execution_count": null,
   "id": "8c2627cc-decc-4947-b5c2-c1111ea8b631",
   "metadata": {},
   "outputs": [],
   "source": [
    "fct_basket_pcm_week = fct_basket_pcm.groupby(['year_week','customer_id','loyalty_score','product_id','product_category']).agg(purchase_count=('date_of_purchase','nunique')).reset_index()"
   ]
  },
  {
   "cell_type": "code",
   "execution_count": null,
   "id": "854c3b41-6a04-4f13-9202-5c32916912f6",
   "metadata": {},
   "outputs": [],
   "source": [
    "fct_basket_pcm.groupby(['year_week','customer_id','loyalty_score','product_id','product_category']).__dict__"
   ]
  },
  {
   "cell_type": "code",
   "execution_count": null,
   "id": "452c724f-1242-4a45-b4a6-a21d82d125cb",
   "metadata": {},
   "outputs": [],
   "source": [
    "fct_basket_pcm.groupby(['year_week','customer_id','loyalty_score','product_id','product_category']).obj"
   ]
  },
  {
   "cell_type": "code",
   "execution_count": null,
   "id": "6f606072-008f-4535-b6fe-3c8347f1b95f",
   "metadata": {},
   "outputs": [],
   "source": [
    "fct_basket_pcm_week.head(1)"
   ]
  },
  {
   "cell_type": "code",
   "execution_count": null,
   "id": "4079893d-be43-4ca5-9ae3-d4b6b2c77b9f",
   "metadata": {},
   "outputs": [],
   "source": [
    "required_columns = ['customer_id', 'loyalty_score', 'product_id', 'product_category', 'purchase_count']"
   ]
  },
  {
   "cell_type": "code",
   "execution_count": null,
   "id": "d2d6fe90-5020-4439-b7d2-0a7949a5163e",
   "metadata": {},
   "outputs": [],
   "source": [
    "fct_basket_pcm_week.groupby(pd.Grouper(key='year_week')).apply(lambda record:record[required_columns].to_json(os.getcwd()+'\\\\'+'output'+'\\\\'+\"W={}.json\".format(record['year_week'].unique()),\n",
    "                                                                                                              orient='records'))"
   ]
  }
 ],
 "metadata": {
  "kernelspec": {
   "display_name": "Python 3 (ipykernel)",
   "language": "python",
   "name": "python3"
  },
  "language_info": {
   "codemirror_mode": {
    "name": "ipython",
    "version": 3
   },
   "file_extension": ".py",
   "mimetype": "text/x-python",
   "name": "python",
   "nbconvert_exporter": "python",
   "pygments_lexer": "ipython3",
   "version": "3.8.13"
  }
 },
 "nbformat": 4,
 "nbformat_minor": 5
}
