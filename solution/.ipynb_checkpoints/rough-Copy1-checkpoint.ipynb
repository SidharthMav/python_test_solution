{
 "cells": [
  {
   "cell_type": "code",
   "execution_count": 1,
   "id": "32d10892-d9cb-4fae-a86f-2d9974f9941d",
   "metadata": {},
   "outputs": [],
   "source": [
    "import pandas as pd\n",
    "\n",
    "import pathlib\n",
    "\n",
    "import glob\n",
    "\n",
    "import os"
   ]
  },
  {
   "cell_type": "code",
   "execution_count": 2,
   "id": "abb49f9b-04e7-4ce5-a6c8-b4744b984f1e",
   "metadata": {},
   "outputs": [],
   "source": [
    "import json"
   ]
  },
  {
   "cell_type": "code",
   "execution_count": 3,
   "id": "4ba8d30c-3095-4bfd-8178-bb8c03d961c3",
   "metadata": {},
   "outputs": [],
   "source": [
    "path = r'C:\\Users\\msidharth\\Desktop\\Sidharth\\Revolve\\python-assignment-level2-6ed53b4e828af18bc24b1770a3a3e3e70706e785\\input_data\\starter'"
   ]
  },
  {
   "cell_type": "markdown",
   "id": "07793317-2450-4412-ba5b-851218871e5b",
   "metadata": {},
   "source": [
    "create a function to read files\n",
    "\n",
    "def read_json(path, is_recursive=True, fct=[]):\n",
    "    if is_recursive:\n",
    "        for file in folder:\n",
    "            fct_loop = read_json(path,is_recursive=False, fct)\n",
    "        \n",
    "    # processing\n",
    "    return data\n",
    "\n",
    "def read_csv(path):\n",
    "    # processing\n",
    "    return data\n",
    "    \n",
    "    \n",
    "csv_data\n",
    "json_data\n",
    "\n",
    "\n",
    "\n",
    "def unpack_dataframe(data_df, column):\n",
    "index = 0\n",
    "basket_df = pd.DataFrame()\n",
    "for record in data_df[column].tolist():\n",
    "    basket_loop = pd.DataFrame(record)\n",
    "    basket_loop['index'] = index\n",
    "    index = index + 1\n",
    "    basket_df = basket_df.append(basket_loop)\n",
    "\n",
    "return basket_df\n",
    "\n",
    "def merge_dfs(dfs=[]):\n",
    "    return merged_dfs\n",
    "\n",
    "merge_dfs(unpacked_df)\n",
    "    "
   ]
  },
  {
   "cell_type": "code",
   "execution_count": 4,
   "id": "b18e1a6c-5afc-4181-9f17-2721a1547fab",
   "metadata": {},
   "outputs": [
    {
     "data": {
      "text/html": [
       "<div>\n",
       "<style scoped>\n",
       "    .dataframe tbody tr th:only-of-type {\n",
       "        vertical-align: middle;\n",
       "    }\n",
       "\n",
       "    .dataframe tbody tr th {\n",
       "        vertical-align: top;\n",
       "    }\n",
       "\n",
       "    .dataframe thead th {\n",
       "        text-align: right;\n",
       "    }\n",
       "</style>\n",
       "<table border=\"1\" class=\"dataframe\">\n",
       "  <thead>\n",
       "    <tr style=\"text-align: right;\">\n",
       "      <th></th>\n",
       "      <th>customer_id</th>\n",
       "      <th>loyalty_score</th>\n",
       "    </tr>\n",
       "  </thead>\n",
       "  <tbody>\n",
       "    <tr>\n",
       "      <th>0</th>\n",
       "      <td>C1</td>\n",
       "      <td>7</td>\n",
       "    </tr>\n",
       "  </tbody>\n",
       "</table>\n",
       "</div>"
      ],
      "text/plain": [
       "  customer_id  loyalty_score\n",
       "0          C1              7"
      ]
     },
     "execution_count": 4,
     "metadata": {},
     "output_type": "execute_result"
    }
   ],
   "source": [
    "cm = pd.read_csv(path+'\\\\'+'customers.csv')\n",
    "cm.head(1)"
   ]
  },
  {
   "cell_type": "code",
   "execution_count": 5,
   "id": "10309387-69b2-4ba3-aa48-8395938a3451",
   "metadata": {},
   "outputs": [
    {
     "data": {
      "text/html": [
       "<div>\n",
       "<style scoped>\n",
       "    .dataframe tbody tr th:only-of-type {\n",
       "        vertical-align: middle;\n",
       "    }\n",
       "\n",
       "    .dataframe tbody tr th {\n",
       "        vertical-align: top;\n",
       "    }\n",
       "\n",
       "    .dataframe thead th {\n",
       "        text-align: right;\n",
       "    }\n",
       "</style>\n",
       "<table border=\"1\" class=\"dataframe\">\n",
       "  <thead>\n",
       "    <tr style=\"text-align: right;\">\n",
       "      <th></th>\n",
       "      <th>product_id</th>\n",
       "      <th>product_description</th>\n",
       "      <th>product_category</th>\n",
       "    </tr>\n",
       "  </thead>\n",
       "  <tbody>\n",
       "    <tr>\n",
       "      <th>0</th>\n",
       "      <td>P01</td>\n",
       "      <td>detergent</td>\n",
       "      <td>house</td>\n",
       "    </tr>\n",
       "  </tbody>\n",
       "</table>\n",
       "</div>"
      ],
      "text/plain": [
       "  product_id product_description product_category\n",
       "0        P01           detergent            house"
      ]
     },
     "execution_count": 5,
     "metadata": {},
     "output_type": "execute_result"
    }
   ],
   "source": [
    "pm = pd.read_csv(path+'\\\\'+'products.csv')\n",
    "pm.head(1)"
   ]
  },
  {
   "cell_type": "code",
   "execution_count": 6,
   "id": "0cb8dc26-e737-4e1e-b975-1edb201cbfb5",
   "metadata": {},
   "outputs": [],
   "source": [
    "fct = pd.DataFrame()"
   ]
  },
  {
   "cell_type": "code",
   "execution_count": 7,
   "id": "e6ebf09a-ca4c-4cc0-9312-bee917a81c5f",
   "metadata": {},
   "outputs": [
    {
     "data": {
      "text/html": [
       "<div>\n",
       "<style scoped>\n",
       "    .dataframe tbody tr th:only-of-type {\n",
       "        vertical-align: middle;\n",
       "    }\n",
       "\n",
       "    .dataframe tbody tr th {\n",
       "        vertical-align: top;\n",
       "    }\n",
       "\n",
       "    .dataframe thead th {\n",
       "        text-align: right;\n",
       "    }\n",
       "</style>\n",
       "<table border=\"1\" class=\"dataframe\">\n",
       "  <thead>\n",
       "    <tr style=\"text-align: right;\">\n",
       "      <th></th>\n",
       "    </tr>\n",
       "  </thead>\n",
       "  <tbody>\n",
       "  </tbody>\n",
       "</table>\n",
       "</div>"
      ],
      "text/plain": [
       "Empty DataFrame\n",
       "Columns: []\n",
       "Index: []"
      ]
     },
     "execution_count": 7,
     "metadata": {},
     "output_type": "execute_result"
    }
   ],
   "source": [
    "fct"
   ]
  },
  {
   "cell_type": "code",
   "execution_count": 8,
   "id": "84c6d52b-c38b-4995-b247-7e7817a6c03c",
   "metadata": {},
   "outputs": [],
   "source": [
    "for f in glob.glob(path+'\\\\*\\\\*\\\\*.json', recursive=True):\n",
    "    fct_loop = pd.read_json(f, lines=True)\n",
    "    fct = fct.append(fct_loop, ignore_index=True)"
   ]
  },
  {
   "cell_type": "code",
   "execution_count": 9,
   "id": "23d2e46f-e67f-4300-b240-b6bf06250e00",
   "metadata": {},
   "outputs": [
    {
     "data": {
      "text/html": [
       "<div>\n",
       "<style scoped>\n",
       "    .dataframe tbody tr th:only-of-type {\n",
       "        vertical-align: middle;\n",
       "    }\n",
       "\n",
       "    .dataframe tbody tr th {\n",
       "        vertical-align: top;\n",
       "    }\n",
       "\n",
       "    .dataframe thead th {\n",
       "        text-align: right;\n",
       "    }\n",
       "</style>\n",
       "<table border=\"1\" class=\"dataframe\">\n",
       "  <thead>\n",
       "    <tr style=\"text-align: right;\">\n",
       "      <th></th>\n",
       "      <th>customer_id</th>\n",
       "      <th>basket</th>\n",
       "      <th>date_of_purchase</th>\n",
       "    </tr>\n",
       "  </thead>\n",
       "  <tbody>\n",
       "    <tr>\n",
       "      <th>0</th>\n",
       "      <td>C17</td>\n",
       "      <td>[{'product_id': 'P40', 'price': 48}]</td>\n",
       "      <td>2018-12-01 23:34:00</td>\n",
       "    </tr>\n",
       "  </tbody>\n",
       "</table>\n",
       "</div>"
      ],
      "text/plain": [
       "  customer_id                                basket     date_of_purchase\n",
       "0         C17  [{'product_id': 'P40', 'price': 48}]  2018-12-01 23:34:00"
      ]
     },
     "execution_count": 9,
     "metadata": {},
     "output_type": "execute_result"
    }
   ],
   "source": [
    "fct.head(1)"
   ]
  },
  {
   "cell_type": "code",
   "execution_count": 19,
   "id": "029f6d8d-b03e-456a-815b-09050e850881",
   "metadata": {},
   "outputs": [],
   "source": [
    "def flatten_df(record, column_to_flatten, other_columns ,append_to_list):\n",
    "    # print(record)\n",
    "    df = pd.DataFrame(record[column_to_flatten])\n",
    "    for column_name in other_columns:\n",
    "        df[column_name] = record[column_name]\n",
    "        \n",
    "    append_to_list.append(df)\n",
    "    return append_to_list"
   ]
  },
  {
   "cell_type": "code",
   "execution_count": 22,
   "id": "3f15d41d-7c2f-4472-a348-7f7ef5ac83da",
   "metadata": {},
   "outputs": [],
   "source": [
    "append_to_list = []\n",
    "column_to_flatten = 'basket'\n",
    "other_columns = ['customer_id','date_of_purchase']"
   ]
  },
  {
   "cell_type": "code",
   "execution_count": 23,
   "id": "0238265d-a92a-4324-8702-40bc0cc84cf0",
   "metadata": {},
   "outputs": [],
   "source": [
    "append_to_list = fct.apply(lambda record: flatten_df(record, 'basket', other_columns, append_to_list), axis=1)"
   ]
  },
  {
   "cell_type": "code",
   "execution_count": null,
   "id": "9efdb99c-edab-4430-afcf-a191bfd452ae",
   "metadata": {},
   "outputs": [],
   "source": [
    "len(append_to_list)"
   ]
  },
  {
   "cell_type": "code",
   "execution_count": null,
   "id": "3a1f0ffc-6b2e-4bc3-8819-ffa1b721bbd7",
   "metadata": {},
   "outputs": [],
   "source": [
    "append_to_list"
   ]
  },
  {
   "cell_type": "code",
   "execution_count": null,
   "id": "10c2f9ff-c9df-4549-8cac-0922ddc5a740",
   "metadata": {},
   "outputs": [],
   "source": [
    "for index, record in fct.head(5).iterrows():\n",
    "    "
   ]
  },
  {
   "cell_type": "code",
   "execution_count": null,
   "id": "8769f948-6f5a-43f9-b5c5-a60922c0cb6f",
   "metadata": {},
   "outputs": [],
   "source": [
    "index = 0\n",
    "basket_df = pd.DataFrame()\n",
    "for record in fct['basket'].tolist():\n",
    "    basket_loop = pd.DataFrame(record)\n",
    "    basket_loop['index'] = index\n",
    "    index = index + 1\n",
    "    basket_df = basket_df.append(basket_loop)"
   ]
  },
  {
   "cell_type": "code",
   "execution_count": null,
   "id": "fbc22b9c-f527-4f82-9f05-9adc894e2ecb",
   "metadata": {},
   "outputs": [],
   "source": [
    "basket_df.head(10)"
   ]
  },
  {
   "cell_type": "code",
   "execution_count": null,
   "id": "ef445d33-65b4-4e7a-80cc-1cf4a5b3fae2",
   "metadata": {},
   "outputs": [],
   "source": [
    "basket_df['price'].sum()"
   ]
  },
  {
   "cell_type": "code",
   "execution_count": null,
   "id": "d3bef4be-ca9c-423b-a932-3be5d6d040d9",
   "metadata": {},
   "outputs": [],
   "source": [
    "fct_basket = basket_df.merge(fct.reset_index())\n",
    "fct_basket.head(1)"
   ]
  },
  {
   "cell_type": "code",
   "execution_count": null,
   "id": "df6e9214-826b-42f5-ac33-2eec00c70e49",
   "metadata": {},
   "outputs": [],
   "source": [
    "fct_basket['price'].sum()"
   ]
  },
  {
   "cell_type": "code",
   "execution_count": null,
   "id": "d3b94bbd-f867-4831-836c-8fada132db04",
   "metadata": {},
   "outputs": [],
   "source": [
    "pm.head(1)"
   ]
  },
  {
   "cell_type": "code",
   "execution_count": null,
   "id": "e84a3895-c1cb-461f-bb81-34fd26dbd005",
   "metadata": {},
   "outputs": [],
   "source": [
    "cm.head(1)"
   ]
  },
  {
   "cell_type": "code",
   "execution_count": null,
   "id": "b2991bbe-dc48-4e53-9fe0-b9c82f38cffd",
   "metadata": {},
   "outputs": [],
   "source": [
    "print(fct_basket['price'].sum())\n",
    "fct_basket_pcm = fct_basket.merge(pm).merge(cm)\n",
    "print(fct_basket_pcm['price'].sum())"
   ]
  },
  {
   "cell_type": "code",
   "execution_count": null,
   "id": "d95c4229-e949-49f5-957d-d9ee87505b9d",
   "metadata": {},
   "outputs": [],
   "source": [
    "fct_basket_pcm.columns"
   ]
  },
  {
   "cell_type": "code",
   "execution_count": null,
   "id": "c4e4230c-2042-4d7e-9532-312956c0292f",
   "metadata": {},
   "outputs": [],
   "source": [
    "fct_basket_pcm.head(1)"
   ]
  },
  {
   "cell_type": "code",
   "execution_count": null,
   "id": "f44c260c-86b7-4bdd-b960-d54cae65681b",
   "metadata": {},
   "outputs": [],
   "source": [
    "fct_basket_pcm['date_of_purchase'] = pd.to_datetime(fct_basket_pcm['date_of_purchase'])"
   ]
  },
  {
   "cell_type": "code",
   "execution_count": null,
   "id": "04fcd6b2-3a0d-42ad-8e0e-bdad7f9eaa56",
   "metadata": {},
   "outputs": [],
   "source": [
    "fct_basket_pcm['week'] = fct_basket_pcm['date_of_purchase'].dt.isocalendar()['week']\n",
    "fct_basket_pcm['year'] = fct_basket_pcm['date_of_purchase'].dt.isocalendar()['year']"
   ]
  },
  {
   "cell_type": "code",
   "execution_count": null,
   "id": "18d7c63b-d81c-4c53-83ed-9f98cfcffc7c",
   "metadata": {},
   "outputs": [],
   "source": [
    "fct_basket_pcm['year_week'] = fct_basket_pcm['year'].astype(str)+'_'+fct_basket_pcm['week'].astype(str)"
   ]
  },
  {
   "cell_type": "code",
   "execution_count": null,
   "id": "26c50563-78da-495e-a9b6-d36c96e7dda2",
   "metadata": {},
   "outputs": [],
   "source": [
    "fct_basket_pcm.head(1)"
   ]
  },
  {
   "cell_type": "code",
   "execution_count": null,
   "id": "5d367c0c-4f04-4781-be6a-8a7c9a998417",
   "metadata": {},
   "outputs": [],
   "source": [
    "fct_basket_pcm_week = fct_basket_pcm.groupby(['year_week','customer_id','loyalty_score','product_id','product_category']).agg(purchase_count=('date_of_purchase','nunique')).reset_index()"
   ]
  },
  {
   "cell_type": "code",
   "execution_count": null,
   "id": "4ba5d7ad-4680-4078-a723-a9332d1a832d",
   "metadata": {},
   "outputs": [],
   "source": [
    "fct_basket_pcm.groupby(['year_week','customer_id','loyalty_score','product_id','product_category']).__dict__"
   ]
  },
  {
   "cell_type": "code",
   "execution_count": null,
   "id": "5fbddaf3-28b5-4333-8268-007c7f65c272",
   "metadata": {},
   "outputs": [],
   "source": [
    "fct_basket_pcm.groupby(['year_week','customer_id','loyalty_score','product_id','product_category']).obj"
   ]
  },
  {
   "cell_type": "code",
   "execution_count": null,
   "id": "533c6ba4-6af9-42ab-bbed-75abc1ee85f6",
   "metadata": {},
   "outputs": [],
   "source": [
    "fct_basket_pcm_week.head(1)"
   ]
  },
  {
   "cell_type": "code",
   "execution_count": null,
   "id": "706aef9e-5cde-498c-bdbc-4bff53000839",
   "metadata": {},
   "outputs": [],
   "source": [
    "required_columns = ['customer_id', 'loyalty_score', 'product_id', 'product_category', 'purchase_count']"
   ]
  },
  {
   "cell_type": "code",
   "execution_count": null,
   "id": "bdf216e8-0e2e-4ed2-ac1c-953e008efe29",
   "metadata": {},
   "outputs": [],
   "source": [
    "fct_basket_pcm_week.groupby(pd.Grouper(key='year_week')).apply(lambda record:record[required_columns].to_json(os.getcwd()+'\\\\'+'output'+'\\\\'+\"W={}.json\".format(record['year_week'].unique()),\n",
    "                                                                                                              orient='records'))"
   ]
  }
 ],
 "metadata": {
  "kernelspec": {
   "display_name": "Python 3 (ipykernel)",
   "language": "python",
   "name": "python3"
  },
  "language_info": {
   "codemirror_mode": {
    "name": "ipython",
    "version": 3
   },
   "file_extension": ".py",
   "mimetype": "text/x-python",
   "name": "python",
   "nbconvert_exporter": "python",
   "pygments_lexer": "ipython3",
   "version": "3.8.13"
  }
 },
 "nbformat": 4,
 "nbformat_minor": 5
}
